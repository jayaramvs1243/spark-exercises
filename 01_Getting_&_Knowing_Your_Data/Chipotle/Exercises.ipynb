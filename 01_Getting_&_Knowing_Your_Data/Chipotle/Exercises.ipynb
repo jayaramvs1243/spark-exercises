{
 "cells": [
  {
   "cell_type": "markdown",
   "metadata": {},
   "source": [
    "# Ex2 - Getting and Knowing your Data"
   ]
  },
  {
   "cell_type": "markdown",
   "metadata": {},
   "source": [
    "This time we are going to pull data directly from the internet.\n",
    "Special thanks to: https://github.com/justmarkham for sharing the dataset and materials.\n",
    "\n",
    "### Step 1. Import the necessary libraries"
   ]
  },
  {
   "cell_type": "code",
   "execution_count": 147,
   "metadata": {
    "collapsed": false,
    "ExecuteTime": {
     "end_time": "2024-03-17T08:21:58.011132Z",
     "start_time": "2024-03-17T08:21:57.901592Z"
    }
   },
   "outputs": [],
   "source": [
    "from pyspark.sql import SparkSession\n",
    "\n",
    "spark_context = SparkSession.builder.appName('Spark Exercises').getOrCreate()"
   ]
  },
  {
   "cell_type": "markdown",
   "metadata": {},
   "source": [
    "### Step 2. Import the dataset from this [address](https://raw.githubusercontent.com/justmarkham/DAT8/master/data/chipotle.tsv). "
   ]
  },
  {
   "cell_type": "code",
   "outputs": [
    {
     "name": "stdout",
     "output_type": "stream",
     "text": [
      "root\n",
      " |-- order_id: long (nullable = true)\n",
      " |-- quantity: long (nullable = true)\n",
      " |-- item_name: string (nullable = true)\n",
      " |-- choice_description: string (nullable = true)\n",
      " |-- item_price: string (nullable = true)\n",
      "\n",
      "+--------+--------+--------------------+--------------------+----------+\n",
      "|order_id|quantity|           item_name|  choice_description|item_price|\n",
      "+--------+--------+--------------------+--------------------+----------+\n",
      "|       1|       1|Chips and Fresh T...|                 NaN|    $2.39 |\n",
      "|       1|       1|                Izze|        [Clementine]|    $3.39 |\n",
      "|       1|       1|    Nantucket Nectar|             [Apple]|    $3.39 |\n",
      "|       1|       1|Chips and Tomatil...|                 NaN|    $2.39 |\n",
      "|       2|       2|        Chicken Bowl|[Tomatillo-Red Ch...|   $16.98 |\n",
      "+--------+--------+--------------------+--------------------+----------+\n",
      "only showing top 5 rows\n",
      "\n",
      "root\n",
      " |-- order_id: integer (nullable = true)\n",
      " |-- quantity: integer (nullable = true)\n",
      " |-- item_name: string (nullable = true)\n",
      " |-- choice_description: string (nullable = true)\n",
      " |-- item_price: string (nullable = true)\n",
      "\n",
      "+--------+--------+--------------------+--------------------+----------+\n",
      "|order_id|quantity|           item_name|  choice_description|item_price|\n",
      "+--------+--------+--------------------+--------------------+----------+\n",
      "|       1|       1|Chips and Fresh T...|                NULL|    $2.39 |\n",
      "|       1|       1|                Izze|        [Clementine]|    $3.39 |\n",
      "|       1|       1|    Nantucket Nectar|             [Apple]|    $3.39 |\n",
      "|       1|       1|Chips and Tomatil...|                NULL|    $2.39 |\n",
      "|       2|       2|        Chicken Bowl|[Tomatillo-Red Ch...|   $16.98 |\n",
      "+--------+--------+--------------------+--------------------+----------+\n",
      "only showing top 5 rows\n"
     ]
    }
   ],
   "source": [
    "import pandas\n",
    "\n",
    "#1 Using Pandas\n",
    "URL_DATA = \"https://raw.githubusercontent.com/justmarkham/DAT8/master/data/chipotle.tsv\"\n",
    "pandas_df_chipotle = pandas.read_csv(URL_DATA, sep=\"\\t\")\n",
    "\n",
    "df_chipotle = spark_context.createDataFrame(pandas_df_chipotle)\n",
    "df_chipotle.printSchema()\n",
    "df_chipotle.show(5)\n",
    "\n",
    "#2 Using PySpark\n",
    "FILE_PATH = \"chipotle.tsv\"\n",
    "df_chipotle \\\n",
    "    = spark_context \\\n",
    "        .read \\\n",
    "        .csv(path=FILE_PATH, sep='\\t', header=True, inferSchema=True)\n",
    "df_chipotle.printSchema()\n",
    "df_chipotle.show(5)"
   ],
   "metadata": {
    "collapsed": false,
    "ExecuteTime": {
     "end_time": "2024-03-17T09:10:11.926873Z",
     "start_time": "2024-03-17T09:10:11.022386Z"
    }
   },
   "execution_count": 167
  },
  {
   "cell_type": "markdown",
   "metadata": {},
   "source": [
    "### Step 3. Assign it to a variable called chipo."
   ]
  },
  {
   "cell_type": "code",
   "execution_count": 149,
   "metadata": {
    "collapsed": false,
    "ExecuteTime": {
     "end_time": "2024-03-17T08:21:58.958084Z",
     "start_time": "2024-03-17T08:21:58.951730Z"
    }
   },
   "outputs": [],
   "source": [
    "chipo = df_chipotle"
   ]
  },
  {
   "cell_type": "markdown",
   "metadata": {},
   "source": [
    "### Step 4. See the first 10 entries"
   ]
  },
  {
   "cell_type": "code",
   "execution_count": 150,
   "metadata": {
    "collapsed": false,
    "scrolled": false,
    "ExecuteTime": {
     "end_time": "2024-03-17T08:21:58.996708Z",
     "start_time": "2024-03-17T08:21:58.953991Z"
    }
   },
   "outputs": [
    {
     "name": "stdout",
     "output_type": "stream",
     "text": [
      "+--------+--------+--------------------+--------------------+----------+\n",
      "|order_id|quantity|           item_name|  choice_description|item_price|\n",
      "+--------+--------+--------------------+--------------------+----------+\n",
      "|       1|       1|Chips and Fresh T...|                NULL|    $2.39 |\n",
      "|       1|       1|                Izze|        [Clementine]|    $3.39 |\n",
      "|       1|       1|    Nantucket Nectar|             [Apple]|    $3.39 |\n",
      "|       1|       1|Chips and Tomatil...|                NULL|    $2.39 |\n",
      "|       2|       2|        Chicken Bowl|[Tomatillo-Red Ch...|   $16.98 |\n",
      "|       3|       1|        Chicken Bowl|[Fresh Tomato Sal...|   $10.98 |\n",
      "|       3|       1|       Side of Chips|                NULL|    $1.69 |\n",
      "|       4|       1|       Steak Burrito|[Tomatillo Red Ch...|   $11.75 |\n",
      "|       4|       1|    Steak Soft Tacos|[Tomatillo Green ...|    $9.25 |\n",
      "|       5|       1|       Steak Burrito|[Fresh Tomato Sal...|    $9.25 |\n",
      "+--------+--------+--------------------+--------------------+----------+\n"
     ]
    }
   ],
   "source": [
    "# In Pandas\n",
    "pandas_df_chipotle.head(10)\n",
    "\n",
    "# In PySpark\n",
    "\n",
    "##'head' should only be used if the resulting array is expected to be small, as all the data is loaded into the driver's memory.\n",
    "df_chipotle.head(10)\n",
    "df_chipotle.show(10)"
   ]
  },
  {
   "cell_type": "markdown",
   "metadata": {},
   "source": [
    "### Step 5. What is the number of observations in the dataset?"
   ]
  },
  {
   "cell_type": "code",
   "execution_count": 151,
   "metadata": {
    "collapsed": false,
    "ExecuteTime": {
     "end_time": "2024-03-17T08:21:59.012050Z",
     "start_time": "2024-03-17T08:21:59.000583Z"
    }
   },
   "outputs": [
    {
     "name": "stdout",
     "output_type": "stream",
     "text": [
      "<class 'pandas.core.frame.DataFrame'>\n",
      "RangeIndex: 4622 entries, 0 to 4621\n",
      "Data columns (total 5 columns):\n",
      " #   Column              Non-Null Count  Dtype \n",
      "---  ------              --------------  ----- \n",
      " 0   order_id            4622 non-null   int64 \n",
      " 1   quantity            4622 non-null   int64 \n",
      " 2   item_name           4622 non-null   object\n",
      " 3   choice_description  3376 non-null   object\n",
      " 4   item_price          4622 non-null   object\n",
      "dtypes: int64(2), object(3)\n",
      "memory usage: 180.7+ KB\n"
     ]
    }
   ],
   "source": [
    "# In Pandas\n",
    "pandas_df_chipotle.info()"
   ]
  },
  {
   "cell_type": "code",
   "execution_count": 152,
   "metadata": {
    "collapsed": false,
    "ExecuteTime": {
     "end_time": "2024-03-17T08:21:59.181237Z",
     "start_time": "2024-03-17T08:21:59.002872Z"
    }
   },
   "outputs": [
    {
     "name": "stdout",
     "output_type": "stream",
     "text": [
      "+-------+-----------------+------------------+-----------------+--------------------+----------+\n",
      "|summary|         order_id|          quantity|        item_name|  choice_description|item_price|\n",
      "+-------+-----------------+------------------+-----------------+--------------------+----------+\n",
      "|  count|             4622|              4622|             4622|                4622|      4622|\n",
      "|   mean|927.2548680225011|1.0757247944612722|             NULL|                NULL|      NULL|\n",
      "| stddev|528.8907955866096|0.4101863342575333|             NULL|                NULL|      NULL|\n",
      "|    min|                1|                 1|6 Pack Soft Drink|                NULL|    $1.09 |\n",
      "|    25%|              477|                 1|             NULL|                NULL|      NULL|\n",
      "|    50%|              926|                 1|             NULL|                NULL|      NULL|\n",
      "|    75%|             1393|                 1|             NULL|                NULL|      NULL|\n",
      "|    max|             1834|                15|Veggie Soft Tacos|[[Tomatillo-Red C...|    $9.39 |\n",
      "+-------+-----------------+------------------+-----------------+--------------------+----------+\n"
     ]
    }
   ],
   "source": [
    "# In PySpark\n",
    "df_chipotle.summary().show()"
   ]
  },
  {
   "cell_type": "markdown",
   "metadata": {},
   "source": [
    "### Step 6. What is the number of columns in the dataset?"
   ]
  },
  {
   "cell_type": "code",
   "execution_count": 153,
   "metadata": {
    "collapsed": false,
    "ExecuteTime": {
     "end_time": "2024-03-17T08:21:59.196903Z",
     "start_time": "2024-03-17T08:21:59.180676Z"
    }
   },
   "outputs": [
    {
     "data": {
      "text/plain": "5"
     },
     "execution_count": 153,
     "metadata": {},
     "output_type": "execute_result"
    }
   ],
   "source": [
    "len(df_chipotle.columns)"
   ]
  },
  {
   "cell_type": "markdown",
   "metadata": {},
   "source": [
    "### Step 7. Print the name of all the columns."
   ]
  },
  {
   "cell_type": "code",
   "execution_count": 154,
   "metadata": {
    "collapsed": false,
    "ExecuteTime": {
     "end_time": "2024-03-17T08:21:59.197582Z",
     "start_time": "2024-03-17T08:21:59.184490Z"
    }
   },
   "outputs": [
    {
     "data": {
      "text/plain": "['order_id', 'quantity', 'item_name', 'choice_description', 'item_price']"
     },
     "execution_count": 154,
     "metadata": {},
     "output_type": "execute_result"
    }
   ],
   "source": [
    "df_chipotle.columns"
   ]
  },
  {
   "cell_type": "markdown",
   "metadata": {},
   "source": [
    "### Step 8. How is the dataset indexed?"
   ]
  },
  {
   "cell_type": "code",
   "execution_count": 154,
   "metadata": {
    "collapsed": false,
    "ExecuteTime": {
     "end_time": "2024-03-17T08:21:59.197970Z",
     "start_time": "2024-03-17T08:21:59.187428Z"
    }
   },
   "outputs": [],
   "source": []
  },
  {
   "cell_type": "markdown",
   "metadata": {},
   "source": [
    "### Step 9. Which was the most-ordered item? "
   ]
  },
  {
   "cell_type": "code",
   "execution_count": 155,
   "metadata": {
    "collapsed": false,
    "ExecuteTime": {
     "end_time": "2024-03-17T08:21:59.262119Z",
     "start_time": "2024-03-17T08:21:59.190205Z"
    }
   },
   "outputs": [
    {
     "name": "stdout",
     "output_type": "stream",
     "text": [
      "+------------+\n",
      "|   item_name|\n",
      "+------------+\n",
      "|Chicken Bowl|\n",
      "+------------+\n"
     ]
    }
   ],
   "source": [
    "from pyspark.sql import functions as F\n",
    "\n",
    "df_chipotle_grouped \\\n",
    "    = df_chipotle.groupBy(df_chipotle.item_name).agg(\n",
    "        F.count(df_chipotle.order_id).alias('item_order_count')\n",
    "    )\n",
    "df_chipotle_grouped \\\n",
    "    .orderBy(df_chipotle_grouped.item_order_count.desc()) \\\n",
    "    .select(df_chipotle_grouped.item_name) \\\n",
    "    .limit(1) \\\n",
    "    .show()"
   ]
  },
  {
   "cell_type": "markdown",
   "metadata": {},
   "source": [
    "### Step 10. For the most-ordered item, how many items were ordered?"
   ]
  },
  {
   "cell_type": "code",
   "execution_count": 156,
   "metadata": {
    "collapsed": false,
    "ExecuteTime": {
     "end_time": "2024-03-17T08:21:59.329746Z",
     "start_time": "2024-03-17T08:21:59.251897Z"
    }
   },
   "outputs": [
    {
     "name": "stdout",
     "output_type": "stream",
     "text": [
      "+------------+----------------+\n",
      "|   item_name|item_order_count|\n",
      "+------------+----------------+\n",
      "|Chicken Bowl|             726|\n",
      "+------------+----------------+\n"
     ]
    }
   ],
   "source": [
    "df_chipotle_grouped \\\n",
    "    .orderBy(df_chipotle_grouped.item_order_count.desc()) \\\n",
    "    .select(df_chipotle_grouped.item_name, df_chipotle_grouped.item_order_count) \\\n",
    "    .limit(1) \\\n",
    "    .show()"
   ]
  },
  {
   "cell_type": "markdown",
   "metadata": {},
   "source": [
    "### Step 11. What was the most ordered item in the choice_description column?"
   ]
  },
  {
   "cell_type": "code",
   "execution_count": 157,
   "metadata": {
    "collapsed": false,
    "ExecuteTime": {
     "end_time": "2024-03-17T08:21:59.428576Z",
     "start_time": "2024-03-17T08:21:59.316462Z"
    }
   },
   "outputs": [
    {
     "name": "stdout",
     "output_type": "stream",
     "text": [
      "+--------------------+----------------+\n",
      "|  choice_description|item_order_count|\n",
      "+--------------------+----------------+\n",
      "|                NULL|            1246|\n",
      "|         [Diet Coke]|             134|\n",
      "|              [Coke]|             123|\n",
      "|            [Sprite]|              77|\n",
      "|[Fresh Tomato Sal...|              42|\n",
      "+--------------------+----------------+\n"
     ]
    }
   ],
   "source": [
    "df_chipotle_grouped \\\n",
    "    = df_chipotle.groupBy(df_chipotle.choice_description).agg(\n",
    "        F.count(df_chipotle.order_id).alias('item_order_count')\n",
    "    )\n",
    "df_chipotle_grouped \\\n",
    "    .orderBy(df_chipotle_grouped.item_order_count.desc()) \\\n",
    "    .select(df_chipotle_grouped.choice_description, df_chipotle_grouped.item_order_count) \\\n",
    "    .limit(5) \\\n",
    "    .show()"
   ]
  },
  {
   "cell_type": "markdown",
   "metadata": {},
   "source": [
    "### Step 12. How many items were orderd in total?"
   ]
  },
  {
   "cell_type": "code",
   "execution_count": 158,
   "metadata": {
    "collapsed": false,
    "ExecuteTime": {
     "end_time": "2024-03-17T08:21:59.534055Z",
     "start_time": "2024-03-17T08:21:59.401818Z"
    }
   },
   "outputs": [
    {
     "name": "stdout",
     "output_type": "stream",
     "text": [
      "+-----------+\n",
      "|order_total|\n",
      "+-----------+\n",
      "|       4972|\n",
      "+-----------+\n"
     ]
    }
   ],
   "source": [
    "df_chipotle.select(F.sum(df_chipotle.quantity).alias('order_total')).show()"
   ]
  },
  {
   "cell_type": "markdown",
   "metadata": {},
   "source": [
    "### Step 13. Turn the item price into a float"
   ]
  },
  {
   "cell_type": "code",
   "outputs": [
    {
     "name": "stdout",
     "output_type": "stream",
     "text": [
      "+--------+--------+--------------------+--------------------+----------+\n",
      "|order_id|quantity|           item_name|  choice_description|item_price|\n",
      "+--------+--------+--------------------+--------------------+----------+\n",
      "|       1|       1|Chips and Fresh T...|                NULL|     2.39 |\n",
      "|       1|       1|                Izze|        [Clementine]|     3.39 |\n",
      "|       1|       1|    Nantucket Nectar|             [Apple]|     3.39 |\n",
      "|       1|       1|Chips and Tomatil...|                NULL|     2.39 |\n",
      "|       2|       2|        Chicken Bowl|[Tomatillo-Red Ch...|    16.98 |\n",
      "+--------+--------+--------------------+--------------------+----------+\n",
      "only showing top 5 rows\n",
      "\n",
      "root\n",
      " |-- order_id: integer (nullable = true)\n",
      " |-- quantity: integer (nullable = true)\n",
      " |-- item_name: string (nullable = true)\n",
      " |-- choice_description: string (nullable = true)\n",
      " |-- item_price: float (nullable = true)\n",
      "\n",
      "+--------+--------+--------------------+--------------------+----------+\n",
      "|order_id|quantity|           item_name|  choice_description|item_price|\n",
      "+--------+--------+--------------------+--------------------+----------+\n",
      "|       1|       1|Chips and Fresh T...|                NULL|      2.39|\n",
      "|       1|       1|                Izze|        [Clementine]|      3.39|\n",
      "|       1|       1|    Nantucket Nectar|             [Apple]|      3.39|\n",
      "|       1|       1|Chips and Tomatil...|                NULL|      2.39|\n",
      "|       2|       2|        Chicken Bowl|[Tomatillo-Red Ch...|     16.98|\n",
      "+--------+--------+--------------------+--------------------+----------+\n"
     ]
    }
   ],
   "source": [
    "df_chipotle = df_chipotle.withColumn('item_price', F.expr(\"substring(item_price, 2)\"))\n",
    "df_chipotle.show(5)\n",
    "\n",
    "df_chipotle = df_chipotle.withColumn('item_price', df_chipotle.item_price.astype('float'))\n",
    "df_chipotle.printSchema()\n",
    "df_chipotle.show(5)"
   ],
   "metadata": {
    "collapsed": false,
    "ExecuteTime": {
     "end_time": "2024-03-17T08:21:59.588368Z",
     "start_time": "2024-03-17T08:21:59.438042Z"
    }
   },
   "execution_count": 159
  },
  {
   "cell_type": "markdown",
   "metadata": {},
   "source": [
    "#### Step 13.a. Check the item price type"
   ]
  },
  {
   "cell_type": "code",
   "execution_count": 160,
   "metadata": {
    "collapsed": false,
    "ExecuteTime": {
     "end_time": "2024-03-17T08:21:59.588921Z",
     "start_time": "2024-03-17T08:21:59.481446Z"
    }
   },
   "outputs": [
    {
     "name": "stdout",
     "output_type": "stream",
     "text": [
      "root\n",
      " |-- order_id: integer (nullable = true)\n",
      " |-- quantity: integer (nullable = true)\n",
      " |-- item_name: string (nullable = true)\n",
      " |-- choice_description: string (nullable = true)\n",
      " |-- item_price: float (nullable = true)\n"
     ]
    }
   ],
   "source": [
    "df_chipotle.printSchema()"
   ]
  },
  {
   "cell_type": "markdown",
   "metadata": {},
   "source": [
    "#### Step 13.b. Create a lambda function and change the type of item price"
   ]
  },
  {
   "cell_type": "code",
   "execution_count": 160,
   "metadata": {
    "collapsed": true,
    "ExecuteTime": {
     "end_time": "2024-03-17T08:21:59.589299Z",
     "start_time": "2024-03-17T08:21:59.484561Z"
    }
   },
   "outputs": [],
   "source": []
  },
  {
   "cell_type": "markdown",
   "metadata": {},
   "source": [
    "#### Step 13.c. Check the item price type"
   ]
  },
  {
   "cell_type": "code",
   "execution_count": 160,
   "metadata": {
    "collapsed": false,
    "ExecuteTime": {
     "end_time": "2024-03-17T08:21:59.590639Z",
     "start_time": "2024-03-17T08:21:59.486798Z"
    }
   },
   "outputs": [],
   "source": []
  },
  {
   "cell_type": "markdown",
   "metadata": {},
   "source": [
    "### Step 14. How much was the revenue for the period in the dataset?"
   ]
  },
  {
   "cell_type": "code",
   "execution_count": 161,
   "metadata": {
    "collapsed": false,
    "ExecuteTime": {
     "end_time": "2024-03-17T08:21:59.595344Z",
     "start_time": "2024-03-17T08:21:59.489741Z"
    }
   },
   "outputs": [
    {
     "name": "stdout",
     "output_type": "stream",
     "text": [
      "+------------------+\n",
      "|           revenue|\n",
      "+------------------+\n",
      "|34500.159754514694|\n",
      "+------------------+\n"
     ]
    }
   ],
   "source": [
    "df_chipotle.select(F.sum(df_chipotle.item_price).alias('revenue')).show()"
   ]
  },
  {
   "cell_type": "markdown",
   "metadata": {},
   "source": [
    "### Step 15. How many orders were made in the period?"
   ]
  },
  {
   "cell_type": "code",
   "execution_count": 162,
   "metadata": {
    "collapsed": false,
    "ExecuteTime": {
     "end_time": "2024-03-17T08:21:59.729939Z",
     "start_time": "2024-03-17T08:21:59.536027Z"
    }
   },
   "outputs": [
    {
     "name": "stdout",
     "output_type": "stream",
     "text": [
      "+-----------+\n",
      "|order_count|\n",
      "+-----------+\n",
      "|       4622|\n",
      "+-----------+\n"
     ]
    }
   ],
   "source": [
    "df_chipotle.select(F.count(df_chipotle.order_id).alias('order_count')).show()"
   ]
  },
  {
   "cell_type": "markdown",
   "metadata": {},
   "source": [
    "### Step 16. What is the average revenue amount per order?"
   ]
  },
  {
   "cell_type": "code",
   "execution_count": 163,
   "metadata": {
    "collapsed": false,
    "ExecuteTime": {
     "end_time": "2024-03-17T08:21:59.766462Z",
     "start_time": "2024-03-17T08:21:59.570833Z"
    }
   },
   "outputs": [
    {
     "name": "stdout",
     "output_type": "stream",
     "text": [
      "+---------------------+\n",
      "|avg_revenue_per_order|\n",
      "+---------------------+\n",
      "|    7.464335732261942|\n",
      "+---------------------+\n"
     ]
    }
   ],
   "source": [
    "# Solution 1\n",
    "df_chipotle.select(\n",
    "    (F.sum(df_chipotle.item_price)/ F.count(df_chipotle.order_id)).alias('avg_revenue_per_order')\n",
    ").show()"
   ]
  },
  {
   "cell_type": "code",
   "outputs": [
    {
     "name": "stdout",
     "output_type": "stream",
     "text": [
      "+---------------------+\n",
      "|avg_revenue_per_order|\n",
      "+---------------------+\n",
      "|    7.464335732261942|\n",
      "+---------------------+\n"
     ]
    }
   ],
   "source": [
    "# Solution 2\n",
    "df_chipotle.select(\n",
    "    (F.avg(df_chipotle.item_price)).alias('avg_revenue_per_order')\n",
    ").show()"
   ],
   "metadata": {
    "collapsed": false,
    "ExecuteTime": {
     "end_time": "2024-03-17T08:21:59.767486Z",
     "start_time": "2024-03-17T08:21:59.617846Z"
    }
   },
   "execution_count": 164
  },
  {
   "cell_type": "code",
   "execution_count": 165,
   "metadata": {
    "collapsed": false,
    "ExecuteTime": {
     "end_time": "2024-03-17T08:21:59.834402Z",
     "start_time": "2024-03-17T08:21:59.655667Z"
    }
   },
   "outputs": [
    {
     "name": "stdout",
     "output_type": "stream",
     "text": [
      "+---------------------+\n",
      "|avg_revenue_per_order|\n",
      "+---------------------+\n",
      "|    7.464335732261942|\n",
      "+---------------------+\n"
     ]
    }
   ],
   "source": [
    "# Solution 3\n",
    "df_chipotle.select(\n",
    "    (F.mean(df_chipotle.item_price)).alias('avg_revenue_per_order')\n",
    ").show()"
   ]
  },
  {
   "cell_type": "markdown",
   "metadata": {},
   "source": [
    "### Step 17. How many different items are sold?"
   ]
  },
  {
   "cell_type": "code",
   "execution_count": 166,
   "metadata": {
    "collapsed": false,
    "ExecuteTime": {
     "end_time": "2024-03-17T08:21:59.875382Z",
     "start_time": "2024-03-17T08:21:59.693731Z"
    }
   },
   "outputs": [
    {
     "name": "stdout",
     "output_type": "stream",
     "text": [
      "+-------------+\n",
      "|distinct_item|\n",
      "+-------------+\n",
      "|           50|\n",
      "+-------------+\n"
     ]
    }
   ],
   "source": [
    "df_chipotle.select(\n",
    "    F.count_distinct(df_chipotle.item_name).alias('distinct_item')\n",
    ").show()"
   ]
  }
 ],
 "metadata": {
  "anaconda-cloud": {},
  "kernelspec": {
   "name": "python3",
   "language": "python",
   "display_name": "Python 3 (ipykernel)"
  },
  "language_info": {
   "codemirror_mode": {
    "name": "ipython",
    "version": 2
   },
   "file_extension": ".py",
   "mimetype": "text/x-python",
   "name": "python",
   "nbconvert_exporter": "python",
   "pygments_lexer": "ipython2",
   "version": "2.7.12"
  }
 },
 "nbformat": 4,
 "nbformat_minor": 0
}
