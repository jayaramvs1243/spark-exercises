{
 "cells": [
  {
   "cell_type": "markdown",
   "metadata": {},
   "source": [
    "# Ex3 - Getting and Knowing your Data"
   ]
  },
  {
   "cell_type": "markdown",
   "metadata": {},
   "source": [
    "This time we are going to pull data directly from the internet.\n",
    "Special thanks to: https://github.com/justmarkham for sharing the dataset and materials.\n",
    "\n",
    "### Step 1. Import the necessary libraries"
   ]
  },
  {
   "cell_type": "code",
   "execution_count": null,
   "metadata": {
    "collapsed": false
   },
   "outputs": [],
   "source": [
    "from pyspark.sql import SparkSession\n",
    "\n",
    "spark_context = SparkSession.builder.appName('Spark Exercises').getOrCreate()"
   ]
  },
  {
   "cell_type": "markdown",
   "metadata": {},
   "source": [
    "### Step 2. Import the dataset from this [address](https://raw.githubusercontent.com/justmarkham/DAT8/master/data/u.user). "
   ]
  },
  {
   "cell_type": "code",
   "outputs": [
    {
     "name": "stdout",
     "output_type": "stream",
     "text": [
      "root\n",
      " |-- user_id: long (nullable = true)\n",
      " |-- age: long (nullable = true)\n",
      " |-- gender: string (nullable = true)\n",
      " |-- occupation: string (nullable = true)\n",
      " |-- zip_code: string (nullable = true)\n",
      "\n",
      "+-------+---+------+----------+--------+\n",
      "|user_id|age|gender|occupation|zip_code|\n",
      "+-------+---+------+----------+--------+\n",
      "|      1| 24|     M|technician|   85711|\n",
      "|      2| 53|     F|     other|   94043|\n",
      "|      3| 23|     M|    writer|   32067|\n",
      "|      4| 24|     M|technician|   43537|\n",
      "|      5| 33|     F|     other|   15213|\n",
      "+-------+---+------+----------+--------+\n",
      "only showing top 5 rows\n",
      "root\n",
      " |-- user_id: integer (nullable = true)\n",
      " |-- age: integer (nullable = true)\n",
      " |-- gender: string (nullable = true)\n",
      " |-- occupation: string (nullable = true)\n",
      " |-- zip_code: string (nullable = true)\n",
      "\n",
      "+-------+---+------+----------+--------+\n",
      "|user_id|age|gender|occupation|zip_code|\n",
      "+-------+---+------+----------+--------+\n",
      "|      1| 24|     M|technician|   85711|\n",
      "|      2| 53|     F|     other|   94043|\n",
      "|      3| 23|     M|    writer|   32067|\n",
      "|      4| 24|     M|technician|   43537|\n",
      "|      5| 33|     F|     other|   15213|\n",
      "+-------+---+------+----------+--------+\n",
      "only showing top 5 rows\n"
     ]
    }
   ],
   "source": [
    "import pandas\n",
    "\n",
    "#1 Using Pandas\n",
    "URL_DATA = 'https://raw.githubusercontent.com/justmarkham/DAT8/master/data/u.user'\n",
    "pandas_df_user = pandas.read_csv(URL_DATA, sep='|')\n",
    "\n",
    "df_user = spark_context.createDataFrame(pandas_df_user)\n",
    "df_user.printSchema()\n",
    "df_user.show(5)\n",
    "\n",
    "#2 Using PySpark\n",
    "FILE_PATH = 'u.user.txt'\n",
    "df_user \\\n",
    "    = spark_context \\\n",
    "        .read \\\n",
    "        .csv(path=FILE_PATH, sep='|', header=True, inferSchema=True)\n",
    "df_user.printSchema()\n",
    "df_user.show(5)"
   ],
   "metadata": {
    "collapsed": false,
    "ExecuteTime": {
     "end_time": "2024-03-17T09:10:26.880745Z",
     "start_time": "2024-03-17T09:10:26.104333Z"
    }
   },
   "execution_count": 36
  },
  {
   "cell_type": "markdown",
   "metadata": {},
   "source": [
    "### Step 3. Assign it to a variable called users and use the 'user_id' as index"
   ]
  },
  {
   "cell_type": "code",
   "execution_count": 5,
   "metadata": {
    "collapsed": false,
    "ExecuteTime": {
     "end_time": "2024-03-17T08:01:54.643939Z",
     "start_time": "2024-03-17T08:01:54.631098Z"
    }
   },
   "outputs": [],
   "source": [
    "users = df_user"
   ]
  },
  {
   "cell_type": "markdown",
   "metadata": {},
   "source": [
    "### Step 4. See the first 25 entries"
   ]
  },
  {
   "cell_type": "code",
   "execution_count": 11,
   "metadata": {
    "collapsed": false,
    "scrolled": true,
    "ExecuteTime": {
     "end_time": "2024-03-17T08:10:47.751693Z",
     "start_time": "2024-03-17T08:10:47.591548Z"
    }
   },
   "outputs": [
    {
     "name": "stdout",
     "output_type": "stream",
     "text": [
      "+-------+---+------+-------------+--------+\n",
      "|user_id|age|gender|   occupation|zip_code|\n",
      "+-------+---+------+-------------+--------+\n",
      "|      1| 24|     M|   technician|   85711|\n",
      "|      2| 53|     F|        other|   94043|\n",
      "|      3| 23|     M|       writer|   32067|\n",
      "|      4| 24|     M|   technician|   43537|\n",
      "|      5| 33|     F|        other|   15213|\n",
      "|      6| 42|     M|    executive|   98101|\n",
      "|      7| 57|     M|administrator|   91344|\n",
      "|      8| 36|     M|administrator|   05201|\n",
      "|      9| 29|     M|      student|   01002|\n",
      "|     10| 53|     M|       lawyer|   90703|\n",
      "+-------+---+------+-------------+--------+\n"
     ]
    }
   ],
   "source": [
    "# In Pandas\n",
    "pandas_df_user.head(10)\n",
    "\n",
    "# In PySpark\n",
    "\n",
    "##'head' should only be used if the resulting array is expected to be small, as all the data is loaded into the driver's memory.\n",
    "df_user.head(10)\n",
    "\n",
    "df_user.orderBy(df_user.user_id.asc()).limit(10).show()"
   ]
  },
  {
   "cell_type": "markdown",
   "metadata": {},
   "source": [
    "### Step 5. See the last 10 entries"
   ]
  },
  {
   "cell_type": "code",
   "execution_count": 12,
   "metadata": {
    "collapsed": false,
    "scrolled": true,
    "ExecuteTime": {
     "end_time": "2024-03-17T08:11:01.075842Z",
     "start_time": "2024-03-17T08:11:00.963202Z"
    }
   },
   "outputs": [
    {
     "name": "stdout",
     "output_type": "stream",
     "text": [
      "+-------+---+------+-------------+--------+\n",
      "|user_id|age|gender|   occupation|zip_code|\n",
      "+-------+---+------+-------------+--------+\n",
      "|    943| 22|     M|      student|   77841|\n",
      "|    942| 48|     F|    librarian|   78209|\n",
      "|    941| 20|     M|      student|   97229|\n",
      "|    940| 32|     M|administrator|   02215|\n",
      "|    939| 26|     F|      student|   33319|\n",
      "|    938| 38|     F|   technician|   55038|\n",
      "|    937| 48|     M|     educator|   98072|\n",
      "|    936| 24|     M|        other|   32789|\n",
      "|    935| 42|     M|       doctor|   66221|\n",
      "|    934| 61|     M|     engineer|   22902|\n",
      "+-------+---+------+-------------+--------+\n"
     ]
    }
   ],
   "source": [
    "# In Pandas\n",
    "pandas_df_user.tail(10)\n",
    "\n",
    "# In PySpark\n",
    "\n",
    "##'head' should only be used if the resulting array is expected to be small, as all the data is loaded into the driver's memory.\n",
    "df_user.tail(10)\n",
    "\n",
    "df_user.orderBy(df_user.user_id.desc()).limit(10).show()"
   ]
  },
  {
   "cell_type": "markdown",
   "metadata": {},
   "source": [
    "### Step 6. What is the number of observations in the dataset?"
   ]
  },
  {
   "cell_type": "code",
   "execution_count": 14,
   "metadata": {
    "collapsed": false,
    "ExecuteTime": {
     "end_time": "2024-03-17T08:12:26.602809Z",
     "start_time": "2024-03-17T08:12:26.400347Z"
    }
   },
   "outputs": [
    {
     "name": "stdout",
     "output_type": "stream",
     "text": [
      "+----------------------+\n",
      "|number_of_observations|\n",
      "+----------------------+\n",
      "|                   943|\n",
      "+----------------------+\n"
     ]
    }
   ],
   "source": [
    "from pyspark.sql import functions as F\n",
    "\n",
    "df_user.count()\n",
    "\n",
    "df_user.select(F.count('*').alias('number_of_observations')).show()"
   ]
  },
  {
   "cell_type": "markdown",
   "metadata": {},
   "source": [
    "### Step 7. What is the number of columns in the dataset?"
   ]
  },
  {
   "cell_type": "code",
   "execution_count": 16,
   "metadata": {
    "collapsed": false,
    "ExecuteTime": {
     "end_time": "2024-03-17T08:13:13.704054Z",
     "start_time": "2024-03-17T08:13:13.689682Z"
    }
   },
   "outputs": [
    {
     "data": {
      "text/plain": "5"
     },
     "execution_count": 16,
     "metadata": {},
     "output_type": "execute_result"
    }
   ],
   "source": [
    "len(df_user.columns)"
   ]
  },
  {
   "cell_type": "markdown",
   "metadata": {},
   "source": [
    "### Step 8. Print the name of all the columns."
   ]
  },
  {
   "cell_type": "code",
   "execution_count": 17,
   "metadata": {
    "collapsed": false,
    "ExecuteTime": {
     "end_time": "2024-03-17T08:13:17.551245Z",
     "start_time": "2024-03-17T08:13:17.526921Z"
    }
   },
   "outputs": [
    {
     "data": {
      "text/plain": "['user_id', 'age', 'gender', 'occupation', 'zip_code']"
     },
     "execution_count": 17,
     "metadata": {},
     "output_type": "execute_result"
    }
   ],
   "source": [
    "df_user.columns"
   ]
  },
  {
   "cell_type": "markdown",
   "metadata": {},
   "source": [
    "### Step 9. How is the dataset indexed?"
   ]
  },
  {
   "cell_type": "code",
   "execution_count": 17,
   "metadata": {
    "collapsed": false,
    "ExecuteTime": {
     "end_time": "2024-03-17T08:13:21.511149Z",
     "start_time": "2024-03-17T08:13:21.487450Z"
    }
   },
   "outputs": [],
   "source": []
  },
  {
   "cell_type": "markdown",
   "metadata": {},
   "source": [
    "### Step 10. What is the data type of each column?"
   ]
  },
  {
   "cell_type": "code",
   "execution_count": 20,
   "metadata": {
    "collapsed": false,
    "ExecuteTime": {
     "end_time": "2024-03-17T08:13:58.419623Z",
     "start_time": "2024-03-17T08:13:58.400559Z"
    }
   },
   "outputs": [
    {
     "name": "stdout",
     "output_type": "stream",
     "text": [
      "root\n",
      " |-- user_id: integer (nullable = true)\n",
      " |-- age: integer (nullable = true)\n",
      " |-- gender: string (nullable = true)\n",
      " |-- occupation: string (nullable = true)\n",
      " |-- zip_code: string (nullable = true)\n"
     ]
    }
   ],
   "source": [
    "df_user.printSchema()"
   ]
  },
  {
   "cell_type": "markdown",
   "metadata": {},
   "source": [
    "### Step 11. Print only the occupation column"
   ]
  },
  {
   "cell_type": "code",
   "execution_count": 35,
   "metadata": {
    "collapsed": false,
    "ExecuteTime": {
     "end_time": "2024-03-17T08:21:46.783924Z",
     "start_time": "2024-03-17T08:21:46.699071Z"
    }
   },
   "outputs": [
    {
     "name": "stdout",
     "output_type": "stream",
     "text": [
      "+----------+\n",
      "|occupation|\n",
      "+----------+\n",
      "|technician|\n",
      "|     other|\n",
      "|    writer|\n",
      "|technician|\n",
      "|     other|\n",
      "+----------+\n"
     ]
    }
   ],
   "source": [
    "df_user.select(df_user.occupation).show(5)"
   ]
  },
  {
   "cell_type": "markdown",
   "metadata": {},
   "source": [
    "### Step 12. How many different occupations are in this dataset?"
   ]
  },
  {
   "cell_type": "code",
   "execution_count": 23,
   "metadata": {
    "collapsed": false,
    "ExecuteTime": {
     "end_time": "2024-03-17T08:15:00.029793Z",
     "start_time": "2024-03-17T08:14:59.898502Z"
    }
   },
   "outputs": [
    {
     "name": "stdout",
     "output_type": "stream",
     "text": [
      "+---------------------+\n",
      "|different_occupations|\n",
      "+---------------------+\n",
      "|                   21|\n",
      "+---------------------+\n"
     ]
    }
   ],
   "source": [
    "df_user.select(F.count_distinct(df_user.occupation).alias('different_occupations')).show()"
   ]
  },
  {
   "cell_type": "markdown",
   "metadata": {},
   "source": [
    "### Step 13. What is the most frequent occupation?"
   ]
  },
  {
   "cell_type": "code",
   "execution_count": 24,
   "metadata": {
    "collapsed": false,
    "ExecuteTime": {
     "end_time": "2024-03-17T08:16:55.652610Z",
     "start_time": "2024-03-17T08:16:55.435582Z"
    }
   },
   "outputs": [
    {
     "name": "stdout",
     "output_type": "stream",
     "text": [
      "+-------------+----------+\n",
      "|   occupation|user_count|\n",
      "+-------------+----------+\n",
      "|      student|       196|\n",
      "|        other|       105|\n",
      "|     educator|        95|\n",
      "|administrator|        79|\n",
      "|     engineer|        67|\n",
      "|   programmer|        66|\n",
      "|    librarian|        51|\n",
      "|       writer|        45|\n",
      "|    executive|        32|\n",
      "|    scientist|        31|\n",
      "+-------------+----------+\n"
     ]
    }
   ],
   "source": [
    "df_user_grouped \\\n",
    "    = df_user.groupBy(df_user.occupation).agg(\n",
    "        F.count(df_user.user_id).alias('user_count')\n",
    "    )\n",
    "df_user_grouped.orderBy(df_user_grouped.user_count.desc()).limit(10).show()"
   ]
  },
  {
   "cell_type": "markdown",
   "metadata": {},
   "source": [
    "### Step 14. Summarize the DataFrame."
   ]
  },
  {
   "cell_type": "code",
   "execution_count": 26,
   "metadata": {
    "collapsed": false,
    "ExecuteTime": {
     "end_time": "2024-03-17T08:17:11.735817Z",
     "start_time": "2024-03-17T08:17:11.520618Z"
    }
   },
   "outputs": [
    {
     "name": "stdout",
     "output_type": "stream",
     "text": [
      "+-------+-----------------+-----------------+------+-------------+------------------+\n",
      "|summary|          user_id|              age|gender|   occupation|          zip_code|\n",
      "+-------+-----------------+-----------------+------+-------------+------------------+\n",
      "|  count|              943|              943|   943|          943|               943|\n",
      "|   mean|            472.0|34.05196182396607|  NULL|         NULL| 50868.78810810811|\n",
      "| stddev|272.3649512449549|12.19273973305903|  NULL|         NULL|30891.373254138176|\n",
      "|    min|                1|                7|     F|administrator|             00000|\n",
      "|    25%|              236|               25|  NULL|         NULL|           21227.0|\n",
      "|    50%|              472|               31|  NULL|         NULL|           53711.0|\n",
      "|    75%|              708|               43|  NULL|         NULL|           78741.0|\n",
      "|    max|              943|               73|     M|       writer|             Y1A6B|\n",
      "+-------+-----------------+-----------------+------+-------------+------------------+\n"
     ]
    }
   ],
   "source": [
    "df_user.summary().show()"
   ]
  },
  {
   "cell_type": "markdown",
   "metadata": {},
   "source": [
    "### Step 15. Summarize all the columns"
   ]
  },
  {
   "cell_type": "code",
   "execution_count": 27,
   "metadata": {
    "collapsed": false,
    "ExecuteTime": {
     "end_time": "2024-03-17T08:17:34.601285Z",
     "start_time": "2024-03-17T08:17:34.424928Z"
    }
   },
   "outputs": [
    {
     "name": "stdout",
     "output_type": "stream",
     "text": [
      "+-------+-----------------+-----------------+------+-------------+------------------+\n",
      "|summary|          user_id|              age|gender|   occupation|          zip_code|\n",
      "+-------+-----------------+-----------------+------+-------------+------------------+\n",
      "|  count|              943|              943|   943|          943|               943|\n",
      "|   mean|            472.0|34.05196182396607|  NULL|         NULL| 50868.78810810811|\n",
      "| stddev|272.3649512449549|12.19273973305903|  NULL|         NULL|30891.373254138176|\n",
      "|    min|                1|                7|     F|administrator|             00000|\n",
      "|    25%|              236|               25|  NULL|         NULL|           21227.0|\n",
      "|    50%|              472|               31|  NULL|         NULL|           53711.0|\n",
      "|    75%|              708|               43|  NULL|         NULL|           78741.0|\n",
      "|    max|              943|               73|     M|       writer|             Y1A6B|\n",
      "+-------+-----------------+-----------------+------+-------------+------------------+\n"
     ]
    }
   ],
   "source": [
    "df_user.summary().show()"
   ]
  },
  {
   "cell_type": "markdown",
   "metadata": {},
   "source": [
    "### Step 16. Summarize only the occupation column"
   ]
  },
  {
   "cell_type": "code",
   "execution_count": 31,
   "metadata": {
    "collapsed": false,
    "ExecuteTime": {
     "end_time": "2024-03-17T08:19:13.580089Z",
     "start_time": "2024-03-17T08:19:13.414506Z"
    }
   },
   "outputs": [
    {
     "name": "stdout",
     "output_type": "stream",
     "text": [
      "+-------+-------------+\n",
      "|summary|   occupation|\n",
      "+-------+-------------+\n",
      "|  count|          943|\n",
      "|   mean|         NULL|\n",
      "| stddev|         NULL|\n",
      "|    min|administrator|\n",
      "|    max|       writer|\n",
      "+-------+-------------+\n",
      "\n",
      "+-------+-------------+\n",
      "|summary|   occupation|\n",
      "+-------+-------------+\n",
      "|  count|          943|\n",
      "|   mean|         NULL|\n",
      "| stddev|         NULL|\n",
      "|    min|administrator|\n",
      "|    25%|         NULL|\n",
      "|    50%|         NULL|\n",
      "|    75%|         NULL|\n",
      "|    max|       writer|\n",
      "+-------+-------------+\n"
     ]
    }
   ],
   "source": [
    "df_user.select(df_user.occupation).describe().show()\n",
    "\n",
    "df_user.select(df_user.occupation).summary().show()"
   ]
  },
  {
   "cell_type": "markdown",
   "metadata": {},
   "source": [
    "### Step 17. What is the mean age of users?"
   ]
  },
  {
   "cell_type": "code",
   "execution_count": 32,
   "metadata": {
    "collapsed": false,
    "ExecuteTime": {
     "end_time": "2024-03-17T08:19:54.735078Z",
     "start_time": "2024-03-17T08:19:54.637688Z"
    }
   },
   "outputs": [
    {
     "name": "stdout",
     "output_type": "stream",
     "text": [
      "+-----------------+\n",
      "|         mean_age|\n",
      "+-----------------+\n",
      "|34.05196182396607|\n",
      "+-----------------+\n"
     ]
    }
   ],
   "source": [
    "df_user.select(F.mean(df_user.age).alias('mean_age')).show()"
   ]
  },
  {
   "cell_type": "markdown",
   "metadata": {},
   "source": [
    "### Step 18. What is the age with least occurrence?"
   ]
  },
  {
   "cell_type": "code",
   "execution_count": 34,
   "metadata": {
    "collapsed": false,
    "ExecuteTime": {
     "end_time": "2024-03-17T08:21:18.570378Z",
     "start_time": "2024-03-17T08:21:18.432744Z"
    }
   },
   "outputs": [
    {
     "name": "stdout",
     "output_type": "stream",
     "text": [
      "+---+----------+\n",
      "|age|user_count|\n",
      "+---+----------+\n",
      "|  7|         1|\n",
      "| 10|         1|\n",
      "| 11|         1|\n",
      "| 66|         1|\n",
      "| 73|         1|\n",
      "| 62|         2|\n",
      "| 64|         2|\n",
      "| 68|         2|\n",
      "| 69|         2|\n",
      "| 14|         3|\n",
      "+---+----------+\n"
     ]
    }
   ],
   "source": [
    "df_user_grouped \\\n",
    "    = df_user.groupBy(df_user.age).agg(\n",
    "        F.count(df_user.user_id).alias('user_count')\n",
    "    )\n",
    "df_user_grouped.orderBy(\n",
    "    df_user_grouped.user_count.asc(),\n",
    "    df_user_grouped.age.asc()\n",
    ").limit(10).show()"
   ]
  }
 ],
 "metadata": {
  "anaconda-cloud": {},
  "kernelspec": {
   "name": "python3",
   "language": "python",
   "display_name": "Python 3 (ipykernel)"
  },
  "language_info": {
   "codemirror_mode": {
    "name": "ipython",
    "version": 2
   },
   "file_extension": ".py",
   "mimetype": "text/x-python",
   "name": "python",
   "nbconvert_exporter": "python",
   "pygments_lexer": "ipython2",
   "version": "2.7.12"
  }
 },
 "nbformat": 4,
 "nbformat_minor": 0
}
